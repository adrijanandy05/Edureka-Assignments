{
 "cells": [
  {
   "cell_type": "markdown",
   "id": "2cde9259",
   "metadata": {},
   "source": [
    "# Assignment 1 Solutions"
   ]
  },
  {
   "cell_type": "markdown",
   "id": "72e29293",
   "metadata": {},
   "source": [
    "Problem Statement 1: Write a Python program to multiply a MxN matrix by NxA matrix and create a real matrix product."
   ]
  },
  {
   "cell_type": "code",
   "execution_count": 1,
   "id": "0fde2048",
   "metadata": {},
   "outputs": [
    {
     "name": "stdout",
     "output_type": "stream",
     "text": [
      "Enter value M: 5\n",
      "Enter value N: 3\n",
      "Enter value A: 2\n",
      "First array:\n",
      "[[0.57027706 0.52944552 0.77472464]\n",
      " [0.9202183  0.44981639 0.47707528]\n",
      " [0.35719698 0.70245539 0.38418287]\n",
      " [0.22269474 0.03239819 0.08242502]\n",
      " [0.97487726 0.13388445 0.80400785]]\n",
      "Second array:\n",
      "[[0.60118825 0.51477399]\n",
      " [0.60226938 0.14972428]\n",
      " [0.93896233 0.77980434]]\n",
      "Dot product of two arrays:\n",
      "[[1.38914995 0.97696829]\n",
      " [1.27209079 0.91307826]\n",
      " [0.99854324 0.58863781]\n",
      " [0.23078789 0.18376364]\n",
      " [1.42165234 1.14885602]]\n"
     ]
    }
   ],
   "source": [
    "import numpy as np\n",
    "m=int(input(\"Enter value M: \"))\n",
    "n=int(input(\"Enter value N: \"))\n",
    "a=int(input(\"Enter value A: \"))\n",
    "print(\"First array:\")\n",
    "arr1=np.random.rand(m,n)\n",
    "print(arr1)\n",
    "print(\"Second array:\")\n",
    "arr2=np.random.rand(n,a)\n",
    "print(arr2)\n",
    "print(\"Dot product of two arrays:\")\n",
    "result=np.dot(arr1,arr2)\n",
    "print(result)"
   ]
  },
  {
   "cell_type": "markdown",
   "id": "592a1427",
   "metadata": {},
   "source": [
    "Problem Statement2: Write a NumPy program to check if each element of an array of your choice is composed of digits, lower case letters, and upper case letters only."
   ]
  },
  {
   "cell_type": "code",
   "execution_count": 2,
   "id": "7eebe21a",
   "metadata": {},
   "outputs": [
    {
     "name": "stdout",
     "output_type": "stream",
     "text": [
      "Enter no. of elements:6\n",
      "Enter your input\n",
      "Python\n",
      "Enter your input\n",
      "PHP\n",
      "Enter your input\n",
      "JS\n",
      "Enter your input\n",
      "Examples\n",
      "Enter your input\n",
      "html5\n",
      "Enter your input\n",
      "5\n",
      "Input: Original Array:\n",
      "['Python' 'PHP' 'JS' 'Examples' 'html5' '5']\n",
      "Digits only:\n",
      "[False False False False False  True]\n",
      "Lower case only:\n",
      "[False False False False  True False]\n",
      "Upper case only:\n",
      "[False  True  True False False False]\n"
     ]
    }
   ],
   "source": [
    "import numpy as np\n",
    "elements=int(input(\"Enter no. of elements:\"))\n",
    "arr=[]\n",
    "for i in range(elements):\n",
    "    print(\"Enter your input\")\n",
    "    item=input()\n",
    "    arr.append(item)\n",
    "arr=np.array(arr)\n",
    "print(\"Input: Original Array:\")\n",
    "print(arr)\n",
    "print(\"Digits only:\")\n",
    "digit_arr=np.char.isdigit(arr)\n",
    "print(digit_arr)\n",
    "print(\"Lower case only:\")\n",
    "lower_arr=np.char.islower(arr)\n",
    "print(lower_arr)\n",
    "print(\"Upper case only:\")\n",
    "upper_arr=np.char.isupper(arr)\n",
    "print(upper_arr)"
   ]
  }
 ],
 "metadata": {
  "kernelspec": {
   "display_name": "Python 3 (ipykernel)",
   "language": "python",
   "name": "python3"
  },
  "language_info": {
   "codemirror_mode": {
    "name": "ipython",
    "version": 3
   },
   "file_extension": ".py",
   "mimetype": "text/x-python",
   "name": "python",
   "nbconvert_exporter": "python",
   "pygments_lexer": "ipython3",
   "version": "3.9.12"
  }
 },
 "nbformat": 4,
 "nbformat_minor": 5
}
